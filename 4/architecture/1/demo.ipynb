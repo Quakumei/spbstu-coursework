{
 "cells": [
  {
   "cell_type": "code",
   "execution_count": 2,
   "metadata": {},
   "outputs": [],
   "source": [
    "INPUT_IMG = './bmpeshka/bmpeshka/pict.bmp'\n",
    "OUTPUT_IMG = 'result.bmp'"
   ]
  },
  {
   "cell_type": "code",
   "execution_count": 31,
   "metadata": {},
   "outputs": [
    {
     "name": "stdout",
     "output_type": "stream",
     "text": [
      "Image shape: (600, 800, 3)\n",
      "Image size: 1440000\n",
      "Image dtype: uint8\n",
      "Image bits per pixel: 24\n",
      "Color count in palette: 16777216\n"
     ]
    }
   ],
   "source": [
    "import cv2\n",
    "import numpy as np\n",
    "from math import ceil\n",
    "\n",
    "# Read image\n",
    "img = cv2.imread(INPUT_IMG)\n",
    "\n",
    "def print_image_info(img: np.ndarray) -> None:\n",
    "    # Write information about image\n",
    "    print('Image shape: {}'.format(img.shape))\n",
    "    print('Image size: {}'.format(img.size))\n",
    "    print('Image dtype: {}'.format(img.dtype))\n",
    "    # Bytes per pixel\n",
    "    bpp = ceil(img.size / (img.shape[0] * img.shape[1]))\n",
    "    # Bits per pixel\n",
    "    bpp *= 8\n",
    "    print(\"Image bits per pixel: {}\".format(bpp))\n",
    "\n",
    "    # Color count in palette\n",
    "    color_count = 2 ** bpp\n",
    "    print(\"Color count in palette: {}\".format(color_count))\n",
    "\n",
    "print_image_info(img)\n"
   ]
  },
  {
   "cell_type": "code",
   "execution_count": 42,
   "metadata": {},
   "outputs": [
    {
     "data": {
      "text/plain": [
       "235"
      ]
     },
     "execution_count": 42,
     "metadata": {},
     "output_type": "execute_result"
    }
   ],
   "source": [
    "cv2.namedWindow('image', cv2.WINDOW_AUTOSIZE)\n",
    "cv2.imshow('image', img)\n",
    "cv2.waitKey(5)"
   ]
  },
  {
   "cell_type": "code",
   "execution_count": null,
   "metadata": {},
   "outputs": [],
   "source": []
  }
 ],
 "metadata": {
  "kernelspec": {
   "display_name": "Python 3",
   "language": "python",
   "name": "python3"
  },
  "language_info": {
   "codemirror_mode": {
    "name": "ipython",
    "version": 3
   },
   "file_extension": ".py",
   "mimetype": "text/x-python",
   "name": "python",
   "nbconvert_exporter": "python",
   "pygments_lexer": "ipython3",
   "version": "3.10.9"
  },
  "orig_nbformat": 4,
  "vscode": {
   "interpreter": {
    "hash": "916dbcbb3f70747c44a77c7bcd40155683ae19c65e1c03b4aa3499c5328201f1"
   }
  }
 },
 "nbformat": 4,
 "nbformat_minor": 2
}
