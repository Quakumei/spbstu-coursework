{
 "cells": [
  {
   "cell_type": "code",
   "execution_count": 6,
   "metadata": {},
   "outputs": [
    {
     "ename": "TypeError",
     "evalue": "not all arguments converted during bytes formatting",
     "output_type": "error",
     "traceback": [
      "\u001b[1;31m---------------------------------------------------------------------------\u001b[0m",
      "\u001b[1;31mTypeError\u001b[0m                                 Traceback (most recent call last)",
      "\u001b[1;32ms:\\_workspace\\third-semester\\ArchitectureSemester\\firstlab\\bmpeshka\\bmpeshka\\bmp.ipynb Cell 1\u001b[0m in \u001b[0;36m<cell line: 53>\u001b[1;34m()\u001b[0m\n\u001b[0;32m     <a href='vscode-notebook-cell:/s%3A/_workspace/third-semester/ArchitectureSemester/firstlab/bmpeshka/bmpeshka/bmp.ipynb#W0sZmlsZQ%3D%3D?line=48'>49</a>\u001b[0m     \u001b[39mprint\u001b[39m(\u001b[39m\"\u001b[39m\u001b[39mUpdating has come to the end successfully!\u001b[39m\u001b[39m\"\u001b[39m)\n\u001b[0;32m     <a href='vscode-notebook-cell:/s%3A/_workspace/third-semester/ArchitectureSemester/firstlab/bmpeshka/bmpeshka/bmp.ipynb#W0sZmlsZQ%3D%3D?line=51'>52</a>\u001b[0m \u001b[39m# Example usage\u001b[39;00m\n\u001b[1;32m---> <a href='vscode-notebook-cell:/s%3A/_workspace/third-semester/ArchitectureSemester/firstlab/bmpeshka/bmpeshka/bmp.ipynb#W0sZmlsZQ%3D%3D?line=52'>53</a>\u001b[0m bmp_to_grayscale(\u001b[39m\"\u001b[39;49m\u001b[39mpict.bmp\u001b[39;49m\u001b[39m\"\u001b[39;49m, \u001b[39m\"\u001b[39;49m\u001b[39moutput.bmp\u001b[39;49m\u001b[39m\"\u001b[39;49m, input_bpp\u001b[39m=\u001b[39;49m\u001b[39m24\u001b[39;49m, output_bpp\u001b[39m=\u001b[39;49m\u001b[39m8\u001b[39;49m)\n",
      "\u001b[1;32ms:\\_workspace\\third-semester\\ArchitectureSemester\\firstlab\\bmpeshka\\bmpeshka\\bmp.ipynb Cell 1\u001b[0m in \u001b[0;36mbmp_to_grayscale\u001b[1;34m(input_file_path, output_file_path, input_bpp, output_bpp)\u001b[0m\n\u001b[0;32m     <a href='vscode-notebook-cell:/s%3A/_workspace/third-semester/ArchitectureSemester/firstlab/bmpeshka/bmpeshka/bmp.ipynb#W0sZmlsZQ%3D%3D?line=43'>44</a>\u001b[0m                 out_buf\u001b[39m.\u001b[39mappend(gray_value)\n\u001b[0;32m     <a href='vscode-notebook-cell:/s%3A/_workspace/third-semester/ArchitectureSemester/firstlab/bmpeshka/bmpeshka/bmp.ipynb#W0sZmlsZQ%3D%3D?line=44'>45</a>\u001b[0m             \u001b[39m# Pad row to multiple of 4 bytes\u001b[39;00m\n\u001b[1;32m---> <a href='vscode-notebook-cell:/s%3A/_workspace/third-semester/ArchitectureSemester/firstlab/bmpeshka/bmpeshka/bmp.ipynb#W0sZmlsZQ%3D%3D?line=45'>46</a>\u001b[0m             output_row_padding \u001b[39m=\u001b[39m \u001b[39mb\u001b[39;49m\u001b[39m\"\u001b[39;49m\u001b[39m\\x00\u001b[39;49;00m\u001b[39m\"\u001b[39;49m \u001b[39m*\u001b[39;49m (\u001b[39m4\u001b[39;49m \u001b[39m-\u001b[39;49m ((width \u001b[39m*\u001b[39;49m output_bpp) \u001b[39m/\u001b[39;49m\u001b[39m/\u001b[39;49m \u001b[39m8\u001b[39;49m) \u001b[39m%\u001b[39;49m \u001b[39m4\u001b[39;49m) \u001b[39m%\u001b[39;49m \u001b[39m4\u001b[39;49m\n\u001b[0;32m     <a href='vscode-notebook-cell:/s%3A/_workspace/third-semester/ArchitectureSemester/firstlab/bmpeshka/bmpeshka/bmp.ipynb#W0sZmlsZQ%3D%3D?line=46'>47</a>\u001b[0m             output_file\u001b[39m.\u001b[39mwrite(out_buf \u001b[39m+\u001b[39m output_row_padding)\n\u001b[0;32m     <a href='vscode-notebook-cell:/s%3A/_workspace/third-semester/ArchitectureSemester/firstlab/bmpeshka/bmpeshka/bmp.ipynb#W0sZmlsZQ%3D%3D?line=48'>49</a>\u001b[0m \u001b[39mprint\u001b[39m(\u001b[39m\"\u001b[39m\u001b[39mUpdating has come to the end successfully!\u001b[39m\u001b[39m\"\u001b[39m)\n",
      "\u001b[1;31mTypeError\u001b[0m: not all arguments converted during bytes formatting"
     ]
    }
   ],
   "source": [
    "import struct\n",
    "\n",
    "def bmp_to_grayscale(input_file_path, output_file_path, input_bpp=24, output_bpp=8):\n",
    "    if input_bpp not in (24, 32):\n",
    "        raise ValueError(\"Unsupported input bits per pixel: {}. Only 24 and 32 bpp are supported.\".format(input_bpp))\n",
    "    if output_bpp != 8:\n",
    "        raise ValueError(\"Unsupported output bits per pixel: {}. Only 8 bpp output is supported.\".format(output_bpp))\n",
    "\n",
    "    with open(input_file_path, \"rb\") as input_file:\n",
    "        # Read file headers\n",
    "        bmp_file_header = input_file.read(14)\n",
    "        bmp_info_header = input_file.read(40)\n",
    "\n",
    "        # Get image dimensions and data offset\n",
    "        width, height = struct.unpack(\"<LL\", bmp_info_header[4:12])\n",
    "        data_offset = struct.unpack(\"<L\", bmp_file_header[10:14])[0]\n",
    "\n",
    "        # Calculate row padding for input image\n",
    "        input_row_padding = (4 - ((width * input_bpp) // 8) % 4) % 4\n",
    "\n",
    "        # Set file pointer to beginning of image data\n",
    "        input_file.seek(data_offset)\n",
    "\n",
    "        # Prepare output file\n",
    "        with open(output_file_path, \"wb\") as output_file:\n",
    "            # Write file headers\n",
    "            output_info_header = bmp_info_header[:28] + struct.pack(\"<L\", output_bpp) + bmp_info_header[32:]\n",
    "            output_file_header = bmp_file_header\n",
    "            output_file_header = output_file_header[:10] + struct.pack(\"<L\", data_offset + 1024) + output_file_header[14:]\n",
    "            output_file.write(output_file_header)\n",
    "            output_file.write(output_info_header)\n",
    "\n",
    "            # Write grayscale color palette\n",
    "            for i in range(256):\n",
    "                output_file.write(bytes([i, i, i, 0]))\n",
    "\n",
    "            # Read and write image data\n",
    "            for i in range(height):\n",
    "                in_buf = input_file.read((width * input_bpp) // 8)\n",
    "                out_buf = bytearray()\n",
    "                for j in range(0, len(in_buf), input_bpp // 8):\n",
    "                    # Convert RGB to grayscale using luminosity method\n",
    "                    gray_value = int(0.3 * in_buf[j] + 0.59 * in_buf[j+1] + 0.11 * in_buf[j+2])\n",
    "                    out_buf.append(gray_value)\n",
    "                # Pad row to multiple of 4 bytes\n",
    "                output_row_padding = b\"\\x00\" * (4 - ((width * output_bpp) // 8) % 4) % 4\n",
    "                output_file.write(out_buf + output_row_padding)\n",
    "\n",
    "    print(\"Updating has come to the end successfully!\")\n",
    "\n",
    "\n",
    "# Example usage\n",
    "bmp_to_grayscale(\"pict.bmp\", \"output.bmp\", input_bpp=24, output_bpp=8)"
   ]
  },
  {
   "cell_type": "code",
   "execution_count": 8,
   "metadata": {},
   "outputs": [
    {
     "name": "stdout",
     "output_type": "stream",
     "text": [
      "Collecting opencv-python\n",
      "  Downloading opencv_python-4.7.0.72-cp37-abi3-win_amd64.whl (38.2 MB)\n",
      "     ---------------------------------------- 38.2/38.2 MB 2.8 MB/s eta 0:00:00\n",
      "Requirement already satisfied: numpy>=1.17.3 in c:\\programdata\\anaconda3\\lib\\site-packages (from opencv-python) (1.21.5)\n",
      "Installing collected packages: opencv-python\n",
      "Successfully installed opencv-python-4.7.0.72\n"
     ]
    }
   ],
   "source": [
    "!pip install opencv-python"
   ]
  },
  {
   "cell_type": "code",
   "execution_count": 12,
   "metadata": {},
   "outputs": [],
   "source": [
    "import cv2\n",
    "import sys\n",
    "\n",
    "def convert(input_file, input_bpp, output_bpp):\n",
    "    # Load input image\n",
    "    img = cv2.imread(input_file, cv2.IMREAD_UNCHANGED)\n",
    "\n",
    "\n",
    "    # Convert to black and white\n",
    "    gray = cv2.cvtColor(img, cv2.COLOR_BGR2GRAY)\n",
    "\n",
    "    # Scale output image to desired bpp\n",
    "    output_depth = cv2.CV_8U if output_bpp == 8 else cv2.CV_16U\n",
    "    gray_scaled = cv2.convertScaleAbs(gray, alpha=(65535.0/(2**output_bpp-1)), beta=0.0)\n",
    "\n",
    "    # Save output image\n",
    "    output_file = \"output.bmp\"\n",
    "    cv2.imwrite(output_file, gray_scaled)\n",
    "\n",
    "if __name__ == '__main__':\n",
    "    convert(\"pict.bmp\", 24, 8)"
   ]
  },
  {
   "cell_type": "code",
   "execution_count": 14,
   "metadata": {},
   "outputs": [
    {
     "ename": "ValueError",
     "evalue": "conversion from RGB to RGB555 not supported",
     "output_type": "error",
     "traceback": [
      "\u001b[1;31m---------------------------------------------------------------------------\u001b[0m",
      "\u001b[1;31mValueError\u001b[0m                                Traceback (most recent call last)",
      "File \u001b[1;32mc:\\ProgramData\\Anaconda3\\lib\\site-packages\\PIL\\Image.py:1016\u001b[0m, in \u001b[0;36mImage.convert\u001b[1;34m(self, mode, matrix, dither, palette, colors)\u001b[0m\n\u001b[0;32m   1015\u001b[0m \u001b[39mtry\u001b[39;00m:\n\u001b[1;32m-> 1016\u001b[0m     im \u001b[39m=\u001b[39m \u001b[39mself\u001b[39;49m\u001b[39m.\u001b[39;49mim\u001b[39m.\u001b[39;49mconvert(mode, dither)\n\u001b[0;32m   1017\u001b[0m \u001b[39mexcept\u001b[39;00m \u001b[39mValueError\u001b[39;00m:\n",
      "\u001b[1;31mValueError\u001b[0m: conversion from RGB to RGB555 not supported",
      "\nDuring handling of the above exception, another exception occurred:\n",
      "\u001b[1;31mValueError\u001b[0m                                Traceback (most recent call last)",
      "\u001b[1;32ms:\\_workspace\\third-semester\\ArchitectureSemester\\firstlab\\bmpeshka\\bmpeshka\\bmp.ipynb Cell 4\u001b[0m in \u001b[0;36m<cell line: 12>\u001b[1;34m()\u001b[0m\n\u001b[0;32m      <a href='vscode-notebook-cell:/s%3A/_workspace/third-semester/ArchitectureSemester/firstlab/bmpeshka/bmpeshka/bmp.ipynb#W2sZmlsZQ%3D%3D?line=8'>9</a>\u001b[0m   img16\u001b[39m.\u001b[39msave(output_path)\n\u001b[0;32m     <a href='vscode-notebook-cell:/s%3A/_workspace/third-semester/ArchitectureSemester/firstlab/bmpeshka/bmpeshka/bmp.ipynb#W2sZmlsZQ%3D%3D?line=10'>11</a>\u001b[0m \u001b[39m# Example usage\u001b[39;00m\n\u001b[1;32m---> <a href='vscode-notebook-cell:/s%3A/_workspace/third-semester/ArchitectureSemester/firstlab/bmpeshka/bmpeshka/bmp.ipynb#W2sZmlsZQ%3D%3D?line=11'>12</a>\u001b[0m convert_4bit_to_16bit(\u001b[39m\"\u001b[39;49m\u001b[39mpict.bmp\u001b[39;49m\u001b[39m\"\u001b[39;49m, \u001b[39m\"\u001b[39;49m\u001b[39moutput.bmp\u001b[39;49m\u001b[39m\"\u001b[39;49m)\n",
      "\u001b[1;32ms:\\_workspace\\third-semester\\ArchitectureSemester\\firstlab\\bmpeshka\\bmpeshka\\bmp.ipynb Cell 4\u001b[0m in \u001b[0;36mconvert_4bit_to_16bit\u001b[1;34m(input_path, output_path)\u001b[0m\n\u001b[0;32m      <a href='vscode-notebook-cell:/s%3A/_workspace/third-semester/ArchitectureSemester/firstlab/bmpeshka/bmpeshka/bmp.ipynb#W2sZmlsZQ%3D%3D?line=4'>5</a>\u001b[0m img \u001b[39m=\u001b[39m Image\u001b[39m.\u001b[39mopen(input_path)\n\u001b[0;32m      <a href='vscode-notebook-cell:/s%3A/_workspace/third-semester/ArchitectureSemester/firstlab/bmpeshka/bmpeshka/bmp.ipynb#W2sZmlsZQ%3D%3D?line=5'>6</a>\u001b[0m \u001b[39m# Convert to 16-bit mode with 5 bits per color channel and 1 alpha bit\u001b[39;00m\n\u001b[1;32m----> <a href='vscode-notebook-cell:/s%3A/_workspace/third-semester/ArchitectureSemester/firstlab/bmpeshka/bmpeshka/bmp.ipynb#W2sZmlsZQ%3D%3D?line=6'>7</a>\u001b[0m img16 \u001b[39m=\u001b[39m img\u001b[39m.\u001b[39;49mconvert(\u001b[39m\"\u001b[39;49m\u001b[39mRGB555\u001b[39;49m\u001b[39m\"\u001b[39;49m)\n\u001b[0;32m      <a href='vscode-notebook-cell:/s%3A/_workspace/third-semester/ArchitectureSemester/firstlab/bmpeshka/bmpeshka/bmp.ipynb#W2sZmlsZQ%3D%3D?line=7'>8</a>\u001b[0m \u001b[39m# Save the output image\u001b[39;00m\n\u001b[0;32m      <a href='vscode-notebook-cell:/s%3A/_workspace/third-semester/ArchitectureSemester/firstlab/bmpeshka/bmpeshka/bmp.ipynb#W2sZmlsZQ%3D%3D?line=8'>9</a>\u001b[0m img16\u001b[39m.\u001b[39msave(output_path)\n",
      "File \u001b[1;32mc:\\ProgramData\\Anaconda3\\lib\\site-packages\\PIL\\Image.py:1021\u001b[0m, in \u001b[0;36mImage.convert\u001b[1;34m(self, mode, matrix, dither, palette, colors)\u001b[0m\n\u001b[0;32m   1018\u001b[0m \u001b[39mtry\u001b[39;00m:\n\u001b[0;32m   1019\u001b[0m     \u001b[39m# normalize source image and try again\u001b[39;00m\n\u001b[0;32m   1020\u001b[0m     im \u001b[39m=\u001b[39m \u001b[39mself\u001b[39m\u001b[39m.\u001b[39mim\u001b[39m.\u001b[39mconvert(getmodebase(\u001b[39mself\u001b[39m\u001b[39m.\u001b[39mmode))\n\u001b[1;32m-> 1021\u001b[0m     im \u001b[39m=\u001b[39m im\u001b[39m.\u001b[39;49mconvert(mode, dither)\n\u001b[0;32m   1022\u001b[0m \u001b[39mexcept\u001b[39;00m \u001b[39mKeyError\u001b[39;00m \u001b[39mas\u001b[39;00m e:\n\u001b[0;32m   1023\u001b[0m     \u001b[39mraise\u001b[39;00m \u001b[39mValueError\u001b[39;00m(\u001b[39m\"\u001b[39m\u001b[39millegal conversion\u001b[39m\u001b[39m\"\u001b[39m) \u001b[39mfrom\u001b[39;00m \u001b[39me\u001b[39;00m\n",
      "\u001b[1;31mValueError\u001b[0m: conversion from RGB to RGB555 not supported"
     ]
    }
   ],
   "source": [
    "from PIL import Image\n",
    "\n",
    "def convert_4bit_to_16bit(input_path, output_path):\n",
    "  # Load the input image\n",
    "  img = Image.open(input_path)\n",
    "  # Convert to 16-bit mode with 5 bits per color channel and 1 alpha bit\n",
    "  img16 = img.convert(\"RGB555\")\n",
    "  # Save the output image\n",
    "  img16.save(output_path)\n",
    "\n",
    "# Example usage\n",
    "convert_4bit_to_16bit(\"pict.bmp\", \"output.bmp\")"
   ]
  },
  {
   "cell_type": "code",
   "execution_count": 19,
   "metadata": {},
   "outputs": [
    {
     "ename": "error",
     "evalue": "required argument is not an integer",
     "output_type": "error",
     "traceback": [
      "\u001b[1;31m---------------------------------------------------------------------------\u001b[0m",
      "\u001b[1;31merror\u001b[0m                                     Traceback (most recent call last)",
      "\u001b[1;32ms:\\_workspace\\third-semester\\ArchitectureSemester\\firstlab\\bmpeshka\\bmpeshka\\bmp.ipynb Cell 5\u001b[0m in \u001b[0;36m<cell line: 57>\u001b[1;34m()\u001b[0m\n\u001b[0;32m     <a href='vscode-notebook-cell:/s%3A/_workspace/third-semester/ArchitectureSemester/firstlab/bmpeshka/bmpeshka/bmp.ipynb#W4sZmlsZQ%3D%3D?line=54'>55</a>\u001b[0m img \u001b[39m=\u001b[39m Image\u001b[39m.\u001b[39mopen(\u001b[39m\"\u001b[39m\u001b[39mpict.bmp\u001b[39m\u001b[39m\"\u001b[39m)\n\u001b[0;32m     <a href='vscode-notebook-cell:/s%3A/_workspace/third-semester/ArchitectureSemester/firstlab/bmpeshka/bmpeshka/bmp.ipynb#W4sZmlsZQ%3D%3D?line=55'>56</a>\u001b[0m \u001b[39mbytes\u001b[39m \u001b[39m=\u001b[39m convert_rgb_to_rgb555(img)\n\u001b[1;32m---> <a href='vscode-notebook-cell:/s%3A/_workspace/third-semester/ArchitectureSemester/firstlab/bmpeshka/bmpeshka/bmp.ipynb#W4sZmlsZQ%3D%3D?line=56'>57</a>\u001b[0m bytes_with_header \u001b[39m=\u001b[39m add_bmp_header(\u001b[39mbytes\u001b[39;49m,img\u001b[39m.\u001b[39;49mwidth,img\u001b[39m.\u001b[39;49mheight)\n\u001b[0;32m     <a href='vscode-notebook-cell:/s%3A/_workspace/third-semester/ArchitectureSemester/firstlab/bmpeshka/bmpeshka/bmp.ipynb#W4sZmlsZQ%3D%3D?line=57'>58</a>\u001b[0m \u001b[39mwith\u001b[39;00m \u001b[39mopen\u001b[39m(\u001b[39m\"\u001b[39m\u001b[39mout.bmp\u001b[39m\u001b[39m\"\u001b[39m,\u001b[39m\"\u001b[39m\u001b[39mwb\u001b[39m\u001b[39m\"\u001b[39m) \u001b[39mas\u001b[39;00m f:\n\u001b[0;32m     <a href='vscode-notebook-cell:/s%3A/_workspace/third-semester/ArchitectureSemester/firstlab/bmpeshka/bmpeshka/bmp.ipynb#W4sZmlsZQ%3D%3D?line=58'>59</a>\u001b[0m     f\u001b[39m.\u001b[39mwrite(bytes_with_header)\n",
      "\u001b[1;32ms:\\_workspace\\third-semester\\ArchitectureSemester\\firstlab\\bmpeshka\\bmpeshka\\bmp.ipynb Cell 5\u001b[0m in \u001b[0;36madd_bmp_header\u001b[1;34m(bytes, width, height)\u001b[0m\n\u001b[0;32m     <a href='vscode-notebook-cell:/s%3A/_workspace/third-semester/ArchitectureSemester/firstlab/bmpeshka/bmpeshka/bmp.ipynb#W4sZmlsZQ%3D%3D?line=44'>45</a>\u001b[0m header_bytes \u001b[39m=\u001b[39m \u001b[39mb\u001b[39m\u001b[39m\"\u001b[39m\u001b[39m\"\u001b[39m\n\u001b[0;32m     <a href='vscode-notebook-cell:/s%3A/_workspace/third-semester/ArchitectureSemester/firstlab/bmpeshka/bmpeshka/bmp.ipynb#W4sZmlsZQ%3D%3D?line=46'>47</a>\u001b[0m \u001b[39mfor\u001b[39;00m fmt,value \u001b[39min\u001b[39;00m header_fields:\n\u001b[1;32m---> <a href='vscode-notebook-cell:/s%3A/_workspace/third-semester/ArchitectureSemester/firstlab/bmpeshka/bmpeshka/bmp.ipynb#W4sZmlsZQ%3D%3D?line=47'>48</a>\u001b[0m   header_bytes \u001b[39m+\u001b[39m\u001b[39m=\u001b[39m struct\u001b[39m.\u001b[39;49mpack(fmt,value)\n\u001b[0;32m     <a href='vscode-notebook-cell:/s%3A/_workspace/third-semester/ArchitectureSemester/firstlab/bmpeshka/bmpeshka/bmp.ipynb#W4sZmlsZQ%3D%3D?line=49'>50</a>\u001b[0m \u001b[39mreturn\u001b[39;00m header_bytes \u001b[39m+\u001b[39m \u001b[39mbytes\u001b[39m\n",
      "\u001b[1;31merror\u001b[0m: required argument is not an integer"
     ]
    }
   ],
   "source": [
    "import numpy as np\n",
    "import struct\n",
    "\n",
    "def convert_rgb_to_rgb555(img):\n",
    "  # Get the width and height of the image\n",
    "  width, height = img.size\n",
    "  # Convert the image to a numpy array of uint8 values\n",
    "  arr = np.array(img, dtype=np.uint8)\n",
    "  # Shift and mask the color channels to get 5 bits per channel\n",
    "  r = (arr[:,:,0] >> 3) & 0x1F\n",
    "  g = (arr[:,:,1] >> 3) & 0x1F\n",
    "  b = (arr[:,:,2] >> 3) & 0x1F\n",
    "  # Combine the color channels into a single uint16 value per pixel\n",
    "  rgb555 = (r << 10) | (g << 5) | b\n",
    "  # Flatten the array and pack it into bytes using little-endian format\n",
    "  bytes = struct.pack(\"<%dH\" % (width * height), *rgb555.flatten())\n",
    "\n",
    "  return bytes\n",
    "\n",
    "def add_bmp_header(bytes, width, height):\n",
    "    # Calculate the file size in bytes\n",
    "    file_size = len(bytes) + 54 # Header size is fixed at 54 bytes\n",
    "\n",
    "    # Create a list of header fields in little-endian format\n",
    "\n",
    "    header_fields = [\n",
    "        (\"B\", \"M\"), # Signature: BM for bitmap files\n",
    "        (\"<I\", file_size), # File size in bytes\n",
    "        (\"<H\",0), # Reserved field: must be zero\n",
    "        (\"<H\",0), # Reserved field: must be zero\n",
    "        (\"<I\",54), # Offset to start of pixel data in bytes\n",
    "        (\"<I\",40), # Size of BITMAPINFOHEADER structure in bytes\n",
    "        (\"<i\",width), # Image width in pixels\n",
    "        (\"<i\",height), # Image height in pixels\n",
    "        (\"<H\",1), # Number of color planes: must be one\n",
    "        (\"<H\",16), # Number of bits per pixel: here we use RGB555 mode\n",
    "        (\"<I\",0), # Compression method: here we use BI_RGB which means no compression\n",
    "        (\"<I\",len(bytes)),# Size of pixel data in bytes\n",
    "        (\"<i\",3780),# Horizontal resolution in pixels per meter: here we use a default value\n",
    "        (\"<i\",3780),# Vertical resolution in pixels per meter: here we use a default value\n",
    "        (\"<I\",0),# Number of colors in palette: here we use zero which means all colors are used\n",
    "        (\"<I\",0)# Number of important colors: here we use zero which means all colors are important\n",
    "    ]\n",
    "\n",
    "    header_bytes = b\"\"\n",
    "\n",
    "    for fmt,value in header_fields:\n",
    "      header_bytes += struct.pack(fmt,value)\n",
    "\n",
    "    return header_bytes + bytes\n",
    "\n",
    "# Example usage\n",
    "from PIL import Image\n",
    "\n",
    "img = Image.open(\"pict.bmp\")\n",
    "bytes = convert_rgb_to_rgb555(img)\n",
    "bytes_with_header = add_bmp_header(bytes,img.width,img.height)\n",
    "with open(\"out.bmp\",\"wb\") as f:\n",
    "    f.write(bytes_with_header)"
   ]
  },
  {
   "cell_type": "code",
   "execution_count": 25,
   "metadata": {},
   "outputs": [
    {
     "name": "stdout",
     "output_type": "stream",
     "text": [
      "P\n"
     ]
    }
   ],
   "source": [
    "# Import PIL\n",
    "from PIL import Image\n",
    "\n",
    "# Open the 4-bit BMP image\n",
    "img = Image.open(\"pict4bit.bmp\")\n",
    "print(img.mode)\n",
    "# Convert it to 16-bit mode (5 bits per channel and 1 alpha bit)\n",
    "img = img.convert(\"RGB\")\n",
    "img = np.array(img)\n",
    "img = img.astype(np.uint16) # Change the data type to unsigned 16-bit integers\n",
    "img = (img >> 3) | (img << 13) # Shift the bits according to the mode specification\n",
    "img = Image.fromarray(img, \"I;16\")\n",
    "\n",
    "# Save the converted image as a new file\n",
    "img.save(\"image_16bit.png\")"
   ]
  },
  {
   "cell_type": "code",
   "execution_count": null,
   "metadata": {},
   "outputs": [],
   "source": []
  }
 ],
 "metadata": {
  "kernelspec": {
   "display_name": "Python 3.9.12 ('base')",
   "language": "python",
   "name": "python3"
  },
  "language_info": {
   "codemirror_mode": {
    "name": "ipython",
    "version": 3
   },
   "file_extension": ".py",
   "mimetype": "text/x-python",
   "name": "python",
   "nbconvert_exporter": "python",
   "pygments_lexer": "ipython3",
   "version": "3.9.12"
  },
  "orig_nbformat": 4,
  "vscode": {
   "interpreter": {
    "hash": "ad2bdc8ecc057115af97d19610ffacc2b4e99fae6737bb82f5d7fb13d2f2c186"
   }
  }
 },
 "nbformat": 4,
 "nbformat_minor": 2
}
